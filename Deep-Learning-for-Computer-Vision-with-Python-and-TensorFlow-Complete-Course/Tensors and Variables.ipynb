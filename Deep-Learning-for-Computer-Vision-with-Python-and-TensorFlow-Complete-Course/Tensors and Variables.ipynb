{
 "cells": [
  {
   "cell_type": "markdown",
   "id": "541f0d22",
   "metadata": {},
   "source": [
    "1- Tensors are Multi Dimensional Arrays\n",
    "2- An array is an ordered arrangement of numbers\n",
    "\n",
    "    [8]                 ----> 0 Dimensional Array\n",
    "    \n",
    "    [2, 0, 8]           ----> 1 Dimensional Array   shape(3)\n",
    "    \n",
    "    [[2, 0, 8],\n",
    "     [2, 0, 8],         ----> 2 Dimensional Array   shape(3, 3)\n",
    "     [2, 0, 8]]\n",
    "     \n",
    "    [[[2,17], [45, 78]], \n",
    "     [[88, 92],[60, 76]],---> 3 Dimensional Array   shape (3, 2, 2)\n",
    "     [[76,33],[20,18]]]\n",
    "    \n",
    "    "
   ]
  },
  {
   "cell_type": "code",
   "execution_count": null,
   "id": "8a414f14",
   "metadata": {},
   "outputs": [],
   "source": []
  },
  {
   "cell_type": "code",
   "execution_count": null,
   "id": "4a82394d",
   "metadata": {},
   "outputs": [],
   "source": []
  }
 ],
 "metadata": {
  "kernelspec": {
   "display_name": "Computer-Vision",
   "language": "python",
   "name": "computer-vision"
  },
  "language_info": {
   "codemirror_mode": {
    "name": "ipython",
    "version": 3
   },
   "file_extension": ".py",
   "mimetype": "text/x-python",
   "name": "python",
   "nbconvert_exporter": "python",
   "pygments_lexer": "ipython3",
   "version": "3.10.11"
  }
 },
 "nbformat": 4,
 "nbformat_minor": 5
}
